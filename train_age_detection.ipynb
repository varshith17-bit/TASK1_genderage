# Age Detection on IMDB-WIKI Dataset

## 1. Imports
import numpy as np
import pandas as pd
import matplotlib.pyplot as plt
import cv2
import os
from tensorflow.keras.models import Sequential
from tensorflow.keras.layers import Conv2D, MaxPooling2D, Flatten, Dense, Dropout
from tensorflow.keras.utils import to_categorical
from sklearn.model_selection import train_test_split
from sklearn.metrics import classification_report, confusion_matrix

## 2. Data Loading & Preprocessing
# Assume you have IMDB-WIKI dataset downloaded and extracted

def load_data(img_dir, label_file, img_size=(64, 64), max_samples=10000):
    # Example data loader, adjust as per your data format
    # Return X (images) and y (ages)
    pass

X, y = load_data('path/to/images', 'path/to/labels.csv')
# For classification, you may bucket ages (e.g., 0-10, 11-20, etc.)
age_bins = [0, 10, 20, 30, 40, 50, 60, 70, 80, 100]
y_binned = np.digitize(y, bins=age_bins)
num_classes = len(age_bins)

X_train, X_test, y_train, y_test = train_test_split(
    X, y_binned, test_size=0.2, random_state=42)

## 3. Model Building
model = Sequential([
    Conv2D(32, (3,3), activation='relu', input_shape=(64, 64, 3)),
    MaxPooling2D((2,2)),
    Conv2D(64, (3,3), activation='relu'),
    MaxPooling2D((2,2)),
    Flatten(),
    Dense(128, activation='relu'),
    Dropout(0.5),
    Dense(num_classes, activation='softmax')
])
model.compile(optimizer='adam', loss='sparse_categorical_crossentropy', metrics=['accuracy'])
model.summary()

## 4. Model Training
history = model.fit(X_train, y_train, epochs=20, batch_size=64, validation_split=0.1)

## 5. Evaluation
y_pred = np.argmax(model.predict(X_test), axis=1)
print(classification_report(y_test, y_pred))
print(confusion_matrix(y_test, y_pred))

## 6. Save Model and Weights
model.save('model/age_model.h5')
model.save_weights('model/model_weights.h5')

## 7. Save Results
import joblib
with open('results/classification_report.txt', 'w') as f:
    f.write(classification_report(y_test, y_pred))
plt.figure(figsize=(10,8))
plt.imshow(confusion_matrix(y_test, y_pred), cmap='Blues')
plt.colorbar()
plt.savefig('results/confusion_matrix.png')

## 8. (Optional) Upload model files to Google Drive and paste links in README.md